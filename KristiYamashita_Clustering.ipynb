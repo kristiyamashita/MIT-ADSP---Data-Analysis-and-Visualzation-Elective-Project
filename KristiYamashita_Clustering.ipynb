{
 "cells": [
  {
   "cell_type": "markdown",
   "metadata": {
    "id": "tIOusyeT4_RJ"
   },
   "source": [
    "# **Unsupervised Learning Project: AllLife Bank Customer Segmentation**\n",
    "\n",
    "# **Marks: 30**\n",
    "\n",
    "Welcome to the project on Unsupervised Learning. We will be using **Credit Card Customer Data** for this project.\n",
    "\n",
    "--------------------------------\n",
    "## **Context** \n",
    "-------------------------------\n",
    "\n",
    "**AllLife Bank wants to focus on its credit card customer base** in the next financial year. They have been advised by their marketing research team, that the penetration in the market can be improved. Based on this input, the marketing team proposes to run personalized campaigns to target new customers as well as upsell to existing customers. \n",
    "\n",
    "Another insight from the market research was that the customers perceive the support services of the bank poorly. Based on this, the operations team wants to upgrade the service delivery model, to ensure that customers' queries are resolved faster. The head of marketing and the head of delivery, both decide to reach out to the Data Science team for help.\n",
    "\n",
    "\n",
    "----------------------------\n",
    "## **Objective**\n",
    "-----------------------------\n",
    "\n",
    "**Identify different segments in the existing customer base**, taking into account their spending patterns as well as past interactions with the bank.\n",
    "\n",
    "--------------------------\n",
    "## **About the data**\n",
    "--------------------------\n",
    "\n",
    "Data is available on customers of the bank with their credit limit, the total number of credit cards the customer has, and different channels through which the customer has contacted the bank for any queries. These different channels include visiting the bank, online, and through a call center.\n",
    "\n",
    "- **Sl_no** - Customer Serial Number\n",
    "- **Customer Key** - Customer identification\n",
    "- **Avg_Credit_Limit**\t- Average credit limit (currency is not specified, you can make an assumption around this)\n",
    "- **Total_Credit_Cards** - Total number of credit cards \n",
    "- **Total_visits_bank**\t- Total bank visits\n",
    "- **Total_visits_online** - Total online visits\n",
    "- **Total_calls_made** - Total calls made"
   ]
  },
  {
   "cell_type": "markdown",
   "metadata": {
    "id": "0ReVFSgtvvO6"
   },
   "source": [
    "## **Importing libraries and overview of the dataset**"
   ]
  },
  {
   "cell_type": "markdown",
   "metadata": {},
   "source": [
    "**Note:** Please make sure you have installed the sklearn_extra library before running the below cell. If you have not installed the library, please run the below code to install the library:\n",
    "\n",
    "!pip install scikit-learn-extra"
   ]
  },
  {
   "cell_type": "code",
   "execution_count": 1,
   "metadata": {
    "id": "KJKn2dkPKnkU"
   },
   "outputs": [],
   "source": [
    "# Importing all the necessary packages\n",
    "\n",
    "import pandas as pd\n",
    "\n",
    "import numpy as np\n",
    "\n",
    "import matplotlib.pylab as plt\n",
    "\n",
    "import seaborn as sns\n",
    "\n",
    "# To scale the data using z-score \n",
    "from sklearn.preprocessing import StandardScaler\n",
    "\n",
    "# Importing clustering algorithms\n",
    "from sklearn.cluster import KMeans\n",
    "\n",
    "from sklearn.mixture import GaussianMixture\n",
    "\n",
    "from sklearn_extra.cluster import KMedoids\n",
    "\n",
    "import warnings\n",
    "warnings.filterwarnings(\"ignore\")"
   ]
  },
  {
   "cell_type": "markdown",
   "metadata": {
    "id": "9qEgcn2XvvO8"
   },
   "source": [
    "### **Loading the data**"
   ]
  },
  {
   "cell_type": "code",
   "execution_count": 2,
   "metadata": {
    "colab": {
     "base_uri": "https://localhost:8080/",
     "height": 137
    },
    "id": "p4QVUUO3VHHH",
    "outputId": "6bd7504e-4281-41ca-f508-5a61927e94b1"
   },
   "outputs": [
    {
     "data": {
      "text/html": [
       "<div>\n",
       "<style scoped>\n",
       "    .dataframe tbody tr th:only-of-type {\n",
       "        vertical-align: middle;\n",
       "    }\n",
       "\n",
       "    .dataframe tbody tr th {\n",
       "        vertical-align: top;\n",
       "    }\n",
       "\n",
       "    .dataframe thead th {\n",
       "        text-align: right;\n",
       "    }\n",
       "</style>\n",
       "<table border=\"1\" class=\"dataframe\">\n",
       "  <thead>\n",
       "    <tr style=\"text-align: right;\">\n",
       "      <th></th>\n",
       "      <th>Sl_No</th>\n",
       "      <th>Customer Key</th>\n",
       "      <th>Avg_Credit_Limit</th>\n",
       "      <th>Total_Credit_Cards</th>\n",
       "      <th>Total_visits_bank</th>\n",
       "      <th>Total_visits_online</th>\n",
       "      <th>Total_calls_made</th>\n",
       "    </tr>\n",
       "  </thead>\n",
       "  <tbody>\n",
       "    <tr>\n",
       "      <th>0</th>\n",
       "      <td>1</td>\n",
       "      <td>87073</td>\n",
       "      <td>100000</td>\n",
       "      <td>2</td>\n",
       "      <td>1</td>\n",
       "      <td>1</td>\n",
       "      <td>0</td>\n",
       "    </tr>\n",
       "    <tr>\n",
       "      <th>1</th>\n",
       "      <td>2</td>\n",
       "      <td>38414</td>\n",
       "      <td>50000</td>\n",
       "      <td>3</td>\n",
       "      <td>0</td>\n",
       "      <td>10</td>\n",
       "      <td>9</td>\n",
       "    </tr>\n",
       "    <tr>\n",
       "      <th>2</th>\n",
       "      <td>3</td>\n",
       "      <td>17341</td>\n",
       "      <td>50000</td>\n",
       "      <td>7</td>\n",
       "      <td>1</td>\n",
       "      <td>3</td>\n",
       "      <td>4</td>\n",
       "    </tr>\n",
       "    <tr>\n",
       "      <th>3</th>\n",
       "      <td>4</td>\n",
       "      <td>40496</td>\n",
       "      <td>30000</td>\n",
       "      <td>5</td>\n",
       "      <td>1</td>\n",
       "      <td>1</td>\n",
       "      <td>4</td>\n",
       "    </tr>\n",
       "    <tr>\n",
       "      <th>4</th>\n",
       "      <td>5</td>\n",
       "      <td>47437</td>\n",
       "      <td>100000</td>\n",
       "      <td>6</td>\n",
       "      <td>0</td>\n",
       "      <td>12</td>\n",
       "      <td>3</td>\n",
       "    </tr>\n",
       "  </tbody>\n",
       "</table>\n",
       "</div>"
      ],
      "text/plain": [
       "   Sl_No  Customer Key  Avg_Credit_Limit  Total_Credit_Cards  \\\n",
       "0      1         87073            100000                   2   \n",
       "1      2         38414             50000                   3   \n",
       "2      3         17341             50000                   7   \n",
       "3      4         40496             30000                   5   \n",
       "4      5         47437            100000                   6   \n",
       "\n",
       "   Total_visits_bank  Total_visits_online  Total_calls_made  \n",
       "0                  1                    1                 0  \n",
       "1                  0                   10                 9  \n",
       "2                  1                    3                 4  \n",
       "3                  1                    1                 4  \n",
       "4                  0                   12                 3  "
      ]
     },
     "execution_count": 2,
     "metadata": {},
     "output_type": "execute_result"
    }
   ],
   "source": [
    "data = pd.read_excel('Credit Card Customer Data.xlsx')\n",
    "\n",
    "data.head()"
   ]
  },
  {
   "cell_type": "markdown",
   "metadata": {
    "id": "ZmxlhPKovvO-"
   },
   "source": [
    "### **Check the info of the data**"
   ]
  },
  {
   "cell_type": "code",
   "execution_count": 3,
   "metadata": {
    "id": "dtroAFl9vvO-",
    "outputId": "bff20f83-1d85-488e-e1dc-e73c56f563a6"
   },
   "outputs": [
    {
     "name": "stdout",
     "output_type": "stream",
     "text": [
      "<class 'pandas.core.frame.DataFrame'>\n",
      "RangeIndex: 660 entries, 0 to 659\n",
      "Data columns (total 7 columns):\n",
      " #   Column               Non-Null Count  Dtype\n",
      "---  ------               --------------  -----\n",
      " 0   Sl_No                660 non-null    int64\n",
      " 1   Customer Key         660 non-null    int64\n",
      " 2   Avg_Credit_Limit     660 non-null    int64\n",
      " 3   Total_Credit_Cards   660 non-null    int64\n",
      " 4   Total_visits_bank    660 non-null    int64\n",
      " 5   Total_visits_online  660 non-null    int64\n",
      " 6   Total_calls_made     660 non-null    int64\n",
      "dtypes: int64(7)\n",
      "memory usage: 36.2 KB\n"
     ]
    }
   ],
   "source": [
    "data.info()"
   ]
  },
  {
   "cell_type": "markdown",
   "metadata": {
    "id": "EPP73jY5vvPA"
   },
   "source": [
    "**Observations:**\n",
    "\n",
    "- There are **660 observations and 7 columns** in the dataset.\n",
    "- All the columns have 660 non-null values, i.e., there are **no missing values**.\n",
    "- **All the columns are of integer data type**."
   ]
  },
  {
   "cell_type": "markdown",
   "metadata": {
    "id": "DOP-MnWovvPA"
   },
   "source": [
    "**There are no missing values. Let us now figure out the number of unique values in each column.** "
   ]
  },
  {
   "cell_type": "code",
   "execution_count": 4,
   "metadata": {
    "id": "OCRC8zfDvvPB",
    "outputId": "ad647d25-ef4e-48fa-9f7e-6f1916668f0e"
   },
   "outputs": [
    {
     "data": {
      "text/plain": [
       "Sl_No                  660\n",
       "Customer Key           655\n",
       "Avg_Credit_Limit       110\n",
       "Total_Credit_Cards      10\n",
       "Total_visits_bank        6\n",
       "Total_visits_online     16\n",
       "Total_calls_made        11\n",
       "dtype: int64"
      ]
     },
     "execution_count": 4,
     "metadata": {},
     "output_type": "execute_result"
    }
   ],
   "source": [
    "data.nunique()"
   ]
  },
  {
   "cell_type": "markdown",
   "metadata": {
    "id": "JjjUYpvovvPC"
   },
   "source": [
    "- Customer key, which is an identifier, has duplicate values. We will treat the duplicate customer keys before applying any algorithm."
   ]
  },
  {
   "cell_type": "markdown",
   "metadata": {
    "id": "fpZolGOdvvPC"
   },
   "source": [
    "## **Data Preprocessing and Exploratory Data Analysis**"
   ]
  },
  {
   "cell_type": "markdown",
   "metadata": {},
   "source": [
    "### **Checking duplicate customer keys**\n",
    "\n",
    "As mentioned above, the Customer Key column has duplicate values. Let's find the rows with duplicate customer keys."
   ]
  },
  {
   "cell_type": "markdown",
   "metadata": {
    "id": "L6bb-Fs0vvPD"
   },
   "source": [
    "### **Question 1: Drop the rows with duplicate customer keys (2 Marks)**"
   ]
  },
  {
   "cell_type": "code",
   "execution_count": 5,
   "metadata": {
    "id": "bWj8abFqvvPD",
    "outputId": "9050a50a-46be-4966-982d-b9ce26929eee"
   },
   "outputs": [
    {
     "data": {
      "text/html": [
       "<div>\n",
       "<style scoped>\n",
       "    .dataframe tbody tr th:only-of-type {\n",
       "        vertical-align: middle;\n",
       "    }\n",
       "\n",
       "    .dataframe tbody tr th {\n",
       "        vertical-align: top;\n",
       "    }\n",
       "\n",
       "    .dataframe thead th {\n",
       "        text-align: right;\n",
       "    }\n",
       "</style>\n",
       "<table border=\"1\" class=\"dataframe\">\n",
       "  <thead>\n",
       "    <tr style=\"text-align: right;\">\n",
       "      <th></th>\n",
       "      <th>Sl_No</th>\n",
       "      <th>Customer Key</th>\n",
       "      <th>Avg_Credit_Limit</th>\n",
       "      <th>Total_Credit_Cards</th>\n",
       "      <th>Total_visits_bank</th>\n",
       "      <th>Total_visits_online</th>\n",
       "      <th>Total_calls_made</th>\n",
       "    </tr>\n",
       "  </thead>\n",
       "  <tbody>\n",
       "    <tr>\n",
       "      <th>332</th>\n",
       "      <td>333</td>\n",
       "      <td>47437</td>\n",
       "      <td>17000</td>\n",
       "      <td>7</td>\n",
       "      <td>3</td>\n",
       "      <td>1</td>\n",
       "      <td>0</td>\n",
       "    </tr>\n",
       "    <tr>\n",
       "      <th>398</th>\n",
       "      <td>399</td>\n",
       "      <td>96929</td>\n",
       "      <td>67000</td>\n",
       "      <td>6</td>\n",
       "      <td>2</td>\n",
       "      <td>2</td>\n",
       "      <td>2</td>\n",
       "    </tr>\n",
       "    <tr>\n",
       "      <th>432</th>\n",
       "      <td>433</td>\n",
       "      <td>37252</td>\n",
       "      <td>59000</td>\n",
       "      <td>6</td>\n",
       "      <td>2</td>\n",
       "      <td>1</td>\n",
       "      <td>2</td>\n",
       "    </tr>\n",
       "    <tr>\n",
       "      <th>541</th>\n",
       "      <td>542</td>\n",
       "      <td>50706</td>\n",
       "      <td>60000</td>\n",
       "      <td>7</td>\n",
       "      <td>5</td>\n",
       "      <td>2</td>\n",
       "      <td>2</td>\n",
       "    </tr>\n",
       "    <tr>\n",
       "      <th>632</th>\n",
       "      <td>633</td>\n",
       "      <td>97935</td>\n",
       "      <td>187000</td>\n",
       "      <td>7</td>\n",
       "      <td>1</td>\n",
       "      <td>7</td>\n",
       "      <td>0</td>\n",
       "    </tr>\n",
       "  </tbody>\n",
       "</table>\n",
       "</div>"
      ],
      "text/plain": [
       "     Sl_No  Customer Key  Avg_Credit_Limit  Total_Credit_Cards  \\\n",
       "332    333         47437             17000                   7   \n",
       "398    399         96929             67000                   6   \n",
       "432    433         37252             59000                   6   \n",
       "541    542         50706             60000                   7   \n",
       "632    633         97935            187000                   7   \n",
       "\n",
       "     Total_visits_bank  Total_visits_online  Total_calls_made  \n",
       "332                  3                    1                 0  \n",
       "398                  2                    2                 2  \n",
       "432                  2                    1                 2  \n",
       "541                  5                    2                 2  \n",
       "632                  1                    7                 0  "
      ]
     },
     "execution_count": 5,
     "metadata": {},
     "output_type": "execute_result"
    }
   ],
   "source": [
    "# There are some duplicates in the column 'Customer Key'. Let us explore\n",
    "\n",
    "duplicate_keys = data['Customer Key'].duplicated()\n",
    "\n",
    "data[duplicate_keys]"
   ]
  },
  {
   "cell_type": "markdown",
   "metadata": {
    "id": "ytv8-DTXvvPE"
   },
   "source": [
    "- There are **5 duplicate customer keys**. We can **drop these observations**.\n",
    "\n",
    "**Note:** We are not making any assumptions about which row with the duplicate keys should be dropped. For example, if row 2 and row 10 have duplicate customer keys, then any one of the two rows can be dropped."
   ]
  },
  {
   "cell_type": "code",
   "execution_count": 6,
   "metadata": {
    "id": "WeUihO0KvvPF"
   },
   "outputs": [],
   "source": [
    "# let's drop duplicate keys\n",
    "\n",
    "data = data[~data.duplicated('Customer Key')]"
   ]
  },
  {
   "cell_type": "markdown",
   "metadata": {
    "id": "IDaRoTAQvvPF"
   },
   "source": [
    "### **Dropping columns** \n",
    "\n",
    "We have done some basic checks. Now, **let's drop the variables that are not required for our analysis**."
   ]
  },
  {
   "cell_type": "code",
   "execution_count": 7,
   "metadata": {
    "id": "albq4GJ2vvPF"
   },
   "outputs": [],
   "source": [
    "data.drop(columns = ['Sl_No', 'Customer Key'], inplace = True)"
   ]
  },
  {
   "cell_type": "markdown",
   "metadata": {},
   "source": [
    "### **Checking duplicate rows**"
   ]
  },
  {
   "cell_type": "markdown",
   "metadata": {
    "id": "fRqvXDr4vvPG"
   },
   "source": [
    "Now, that we have dropped unnecessary columns, we can again check for duplicates. **Duplicates would mean customers with identical features.**"
   ]
  },
  {
   "cell_type": "code",
   "execution_count": 8,
   "metadata": {
    "id": "J2EV_kXUvvPG",
    "outputId": "c4159aa4-6b34-4677-b600-063d6e13c529"
   },
   "outputs": [
    {
     "data": {
      "text/html": [
       "<div>\n",
       "<style scoped>\n",
       "    .dataframe tbody tr th:only-of-type {\n",
       "        vertical-align: middle;\n",
       "    }\n",
       "\n",
       "    .dataframe tbody tr th {\n",
       "        vertical-align: top;\n",
       "    }\n",
       "\n",
       "    .dataframe thead th {\n",
       "        text-align: right;\n",
       "    }\n",
       "</style>\n",
       "<table border=\"1\" class=\"dataframe\">\n",
       "  <thead>\n",
       "    <tr style=\"text-align: right;\">\n",
       "      <th></th>\n",
       "      <th>Avg_Credit_Limit</th>\n",
       "      <th>Total_Credit_Cards</th>\n",
       "      <th>Total_visits_bank</th>\n",
       "      <th>Total_visits_online</th>\n",
       "      <th>Total_calls_made</th>\n",
       "    </tr>\n",
       "  </thead>\n",
       "  <tbody>\n",
       "    <tr>\n",
       "      <th>162</th>\n",
       "      <td>8000</td>\n",
       "      <td>2</td>\n",
       "      <td>0</td>\n",
       "      <td>3</td>\n",
       "      <td>4</td>\n",
       "    </tr>\n",
       "    <tr>\n",
       "      <th>175</th>\n",
       "      <td>6000</td>\n",
       "      <td>1</td>\n",
       "      <td>0</td>\n",
       "      <td>2</td>\n",
       "      <td>5</td>\n",
       "    </tr>\n",
       "    <tr>\n",
       "      <th>215</th>\n",
       "      <td>8000</td>\n",
       "      <td>4</td>\n",
       "      <td>0</td>\n",
       "      <td>4</td>\n",
       "      <td>7</td>\n",
       "    </tr>\n",
       "    <tr>\n",
       "      <th>295</th>\n",
       "      <td>10000</td>\n",
       "      <td>6</td>\n",
       "      <td>4</td>\n",
       "      <td>2</td>\n",
       "      <td>3</td>\n",
       "    </tr>\n",
       "    <tr>\n",
       "      <th>324</th>\n",
       "      <td>9000</td>\n",
       "      <td>4</td>\n",
       "      <td>5</td>\n",
       "      <td>0</td>\n",
       "      <td>4</td>\n",
       "    </tr>\n",
       "    <tr>\n",
       "      <th>361</th>\n",
       "      <td>18000</td>\n",
       "      <td>6</td>\n",
       "      <td>3</td>\n",
       "      <td>1</td>\n",
       "      <td>4</td>\n",
       "    </tr>\n",
       "    <tr>\n",
       "      <th>378</th>\n",
       "      <td>12000</td>\n",
       "      <td>6</td>\n",
       "      <td>5</td>\n",
       "      <td>2</td>\n",
       "      <td>1</td>\n",
       "    </tr>\n",
       "    <tr>\n",
       "      <th>385</th>\n",
       "      <td>8000</td>\n",
       "      <td>7</td>\n",
       "      <td>4</td>\n",
       "      <td>2</td>\n",
       "      <td>0</td>\n",
       "    </tr>\n",
       "    <tr>\n",
       "      <th>395</th>\n",
       "      <td>5000</td>\n",
       "      <td>4</td>\n",
       "      <td>5</td>\n",
       "      <td>0</td>\n",
       "      <td>1</td>\n",
       "    </tr>\n",
       "    <tr>\n",
       "      <th>455</th>\n",
       "      <td>47000</td>\n",
       "      <td>6</td>\n",
       "      <td>2</td>\n",
       "      <td>0</td>\n",
       "      <td>4</td>\n",
       "    </tr>\n",
       "    <tr>\n",
       "      <th>497</th>\n",
       "      <td>52000</td>\n",
       "      <td>4</td>\n",
       "      <td>2</td>\n",
       "      <td>1</td>\n",
       "      <td>2</td>\n",
       "    </tr>\n",
       "  </tbody>\n",
       "</table>\n",
       "</div>"
      ],
      "text/plain": [
       "     Avg_Credit_Limit  Total_Credit_Cards  Total_visits_bank  \\\n",
       "162              8000                   2                  0   \n",
       "175              6000                   1                  0   \n",
       "215              8000                   4                  0   \n",
       "295             10000                   6                  4   \n",
       "324              9000                   4                  5   \n",
       "361             18000                   6                  3   \n",
       "378             12000                   6                  5   \n",
       "385              8000                   7                  4   \n",
       "395              5000                   4                  5   \n",
       "455             47000                   6                  2   \n",
       "497             52000                   4                  2   \n",
       "\n",
       "     Total_visits_online  Total_calls_made  \n",
       "162                    3                 4  \n",
       "175                    2                 5  \n",
       "215                    4                 7  \n",
       "295                    2                 3  \n",
       "324                    0                 4  \n",
       "361                    1                 4  \n",
       "378                    2                 1  \n",
       "385                    2                 0  \n",
       "395                    0                 1  \n",
       "455                    0                 4  \n",
       "497                    1                 2  "
      ]
     },
     "execution_count": 8,
     "metadata": {},
     "output_type": "execute_result"
    }
   ],
   "source": [
    "data[data.duplicated()]"
   ]
  },
  {
   "cell_type": "markdown",
   "metadata": {
    "id": "V7Xt_Ss3vvPG"
   },
   "source": [
    "- There are 11 duplicate rows. We can drop these duplicate rows from the data."
   ]
  },
  {
   "cell_type": "code",
   "execution_count": 9,
   "metadata": {
    "id": "aBnoG0IivvPH"
   },
   "outputs": [],
   "source": [
    "data = data[~data.duplicated()]"
   ]
  },
  {
   "cell_type": "code",
   "execution_count": 10,
   "metadata": {
    "id": "Bgj7fBervvPH",
    "outputId": "7181e588-68b1-4184-ed6c-687d1997dc47"
   },
   "outputs": [
    {
     "data": {
      "text/plain": [
       "(644, 5)"
      ]
     },
     "execution_count": 10,
     "metadata": {},
     "output_type": "execute_result"
    }
   ],
   "source": [
    "data.shape"
   ]
  },
  {
   "cell_type": "markdown",
   "metadata": {
    "id": "JtAIAYr9vvPH"
   },
   "source": [
    "- After removing the duplicate keys, the duplicate rows, and dropping unnecessary columns, there are 644 unique observations and 5 columns in our data."
   ]
  },
  {
   "cell_type": "markdown",
   "metadata": {
    "id": "LmykagZ0vvPI"
   },
   "source": [
    "### **Summary Statistics**"
   ]
  },
  {
   "cell_type": "markdown",
   "metadata": {
    "id": "PqPGo3N4vvPI"
   },
   "source": [
    "### **Question 2: Write your observations on the summary statistics of the data (1 Mark)**"
   ]
  },
  {
   "cell_type": "code",
   "execution_count": 11,
   "metadata": {
    "id": "yg-YXbPNvvPI",
    "outputId": "4c9d30bf-f6d2-4922-d340-7db9b8f6ce24"
   },
   "outputs": [
    {
     "data": {
      "text/html": [
       "<div>\n",
       "<style scoped>\n",
       "    .dataframe tbody tr th:only-of-type {\n",
       "        vertical-align: middle;\n",
       "    }\n",
       "\n",
       "    .dataframe tbody tr th {\n",
       "        vertical-align: top;\n",
       "    }\n",
       "\n",
       "    .dataframe thead th {\n",
       "        text-align: right;\n",
       "    }\n",
       "</style>\n",
       "<table border=\"1\" class=\"dataframe\">\n",
       "  <thead>\n",
       "    <tr style=\"text-align: right;\">\n",
       "      <th></th>\n",
       "      <th>count</th>\n",
       "      <th>mean</th>\n",
       "      <th>std</th>\n",
       "      <th>min</th>\n",
       "      <th>25%</th>\n",
       "      <th>50%</th>\n",
       "      <th>75%</th>\n",
       "      <th>max</th>\n",
       "    </tr>\n",
       "  </thead>\n",
       "  <tbody>\n",
       "    <tr>\n",
       "      <th>Avg_Credit_Limit</th>\n",
       "      <td>644.0</td>\n",
       "      <td>34543.478261</td>\n",
       "      <td>37428.704286</td>\n",
       "      <td>3000.0</td>\n",
       "      <td>11000.0</td>\n",
       "      <td>18000.0</td>\n",
       "      <td>48000.00</td>\n",
       "      <td>200000.0</td>\n",
       "    </tr>\n",
       "    <tr>\n",
       "      <th>Total_Credit_Cards</th>\n",
       "      <td>644.0</td>\n",
       "      <td>4.694099</td>\n",
       "      <td>2.175338</td>\n",
       "      <td>1.0</td>\n",
       "      <td>3.0</td>\n",
       "      <td>5.0</td>\n",
       "      <td>6.00</td>\n",
       "      <td>10.0</td>\n",
       "    </tr>\n",
       "    <tr>\n",
       "      <th>Total_visits_bank</th>\n",
       "      <td>644.0</td>\n",
       "      <td>2.395963</td>\n",
       "      <td>1.626964</td>\n",
       "      <td>0.0</td>\n",
       "      <td>1.0</td>\n",
       "      <td>2.0</td>\n",
       "      <td>4.00</td>\n",
       "      <td>5.0</td>\n",
       "    </tr>\n",
       "    <tr>\n",
       "      <th>Total_visits_online</th>\n",
       "      <td>644.0</td>\n",
       "      <td>2.624224</td>\n",
       "      <td>2.957728</td>\n",
       "      <td>0.0</td>\n",
       "      <td>1.0</td>\n",
       "      <td>2.0</td>\n",
       "      <td>4.00</td>\n",
       "      <td>15.0</td>\n",
       "    </tr>\n",
       "    <tr>\n",
       "      <th>Total_calls_made</th>\n",
       "      <td>644.0</td>\n",
       "      <td>3.608696</td>\n",
       "      <td>2.880025</td>\n",
       "      <td>0.0</td>\n",
       "      <td>1.0</td>\n",
       "      <td>3.0</td>\n",
       "      <td>5.25</td>\n",
       "      <td>10.0</td>\n",
       "    </tr>\n",
       "  </tbody>\n",
       "</table>\n",
       "</div>"
      ],
      "text/plain": [
       "                     count          mean           std     min      25%  \\\n",
       "Avg_Credit_Limit     644.0  34543.478261  37428.704286  3000.0  11000.0   \n",
       "Total_Credit_Cards   644.0      4.694099      2.175338     1.0      3.0   \n",
       "Total_visits_bank    644.0      2.395963      1.626964     0.0      1.0   \n",
       "Total_visits_online  644.0      2.624224      2.957728     0.0      1.0   \n",
       "Total_calls_made     644.0      3.608696      2.880025     0.0      1.0   \n",
       "\n",
       "                         50%       75%       max  \n",
       "Avg_Credit_Limit     18000.0  48000.00  200000.0  \n",
       "Total_Credit_Cards       5.0      6.00      10.0  \n",
       "Total_visits_bank        2.0      4.00       5.0  \n",
       "Total_visits_online      2.0      4.00      15.0  \n",
       "Total_calls_made         3.0      5.25      10.0  "
      ]
     },
     "execution_count": 11,
     "metadata": {},
     "output_type": "execute_result"
    }
   ],
   "source": [
    "data.describe().T"
   ]
  },
  {
   "cell_type": "markdown",
   "metadata": {
    "id": "kAEzS8-GvvPI"
   },
   "source": [
    "**Observations:** \n",
    "\n",
    "- There are 644 observations.\n",
    "- The average credit limit has a high range from 3000 to 200000. The average average credit limit is approximately 34543.\n",
    "- The total online visits has the largest range out of the three different methods customers contact the bank for queries. The max total online visits is 15 compared to a max of 5 for total bank visits and 10 for total calls made.\n",
    "- Customers in this dataset have at least 1 credit card and a max of 10.  The average total credit cards customers have is 4.694099.\n",
    "- The average credit limit shows a high variability with a standard deviation of 37428.704286.  This is expected as average credit limit would vary from customer to customer depending on several factors such as their spending habits and how long they've had their card.\n",
    "- Overall, total bank visits seem to have a lesser standard deviation, than the other two methods customers contact the bank for queries."
   ]
  },
  {
   "cell_type": "markdown",
   "metadata": {
    "id": "xUxHbmglvvPJ"
   },
   "source": [
    "**Now, let's go ahead with exploring each variable at hand.**"
   ]
  },
  {
   "cell_type": "markdown",
   "metadata": {},
   "source": [
    "### **Question 3: Check the distribution and outliers for each variable in the data.**"
   ]
  },
  {
   "cell_type": "markdown",
   "metadata": {
    "id": "YM81boKxvvPJ"
   },
   "source": [
    "- **Check the distribution of all variables (use .hist() attribute) (2 Marks)**\n",
    "- **Check outliers for all variables (use sns.boxplot()) (2 Mark)**\n",
    "- **Write your observations (1 Marks)**"
   ]
  },
  {
   "cell_type": "code",
   "execution_count": 12,
   "metadata": {
    "id": "TmKqRM1JvvPJ",
    "outputId": "bb6b98ee-0a17-4d65-e8b4-6387bbf6b888"
   },
   "outputs": [
    {
     "name": "stdout",
     "output_type": "stream",
     "text": [
      "Avg_Credit_Limit\n",
      "Skew : 2.19\n"
     ]
    },
    {
     "data": {
      "image/png": "[encoded data removed]",
      "text/plain": [
       "<Figure size 1080x288 with 2 Axes>"
      ]
     },
     "metadata": {
      "needs_background": "light"
     },
     "output_type": "display_data"
    },
    {
     "name": "stdout",
     "output_type": "stream",
     "text": [
      "Total_Credit_Cards\n",
      "Skew : 0.17\n"
     ]
    },
    {
     "data": {
      "image/png": "[encoded data removed]",
      "text/plain": [
       "<Figure size 1080x288 with 2 Axes>"
      ]
     },
     "metadata": {
      "needs_background": "light"
     },
     "output_type": "display_data"
    },
    {
     "name": "stdout",
     "output_type": "stream",
     "text": [
      "Total_visits_bank\n",
      "Skew : 0.15\n"
     ]
    },
    {
     "data": {
      "image/png": "[encoded data removed]",
      "text/plain": [
       "<Figure size 1080x288 with 2 Axes>"
      ]
     },
     "metadata": {
      "needs_background": "light"
     },
     "output_type": "display_data"
    },
    {
     "name": "stdout",
     "output_type": "stream",
     "text": [
      "Total_visits_online\n",
      "Skew : 2.21\n"
     ]
    },
    {
     "data": {
      "image/png": "[encoded data removed]",
      "text/plain": [
       "<Figure size 1080x288 with 2 Axes>"
      ]
     },
     "metadata": {
      "needs_background": "light"
     },
     "output_type": "display_data"
    },
    {
     "name": "stdout",
     "output_type": "stream",
     "text": [
      "Total_calls_made\n",
      "Skew : 0.65\n"
     ]
    },
    {
     "data": {
      "image/png": "[encoded data removed]",
      "text/plain": [
       "<Figure size 1080x288 with 2 Axes>"
      ]
     },
     "metadata": {
      "needs_background": "light"
     },
     "output_type": "display_data"
    }
   ],
   "source": [
    "# complete the BELOW code by filling the blanks, before running the cell to avoid any errors \n",
    "\n",
    "for col in data.columns:\n",
    "    print(col)\n",
    "    \n",
    "    print('Skew :', round(data[col].skew(), 2))\n",
    "    \n",
    "    plt.figure(figsize = (15, 4))\n",
    "    \n",
    "    plt.subplot(1, 2, 1)\n",
    "    \n",
    "    data[col].hist()\n",
    "    \n",
    "    plt.ylabel('count')\n",
    "    \n",
    "    plt.subplot(1, 2, 2)\n",
    "    \n",
    "    sns.boxplot(x = data[col])\n",
    "    \n",
    "    plt.show()"
   ]
  },
  {
   "cell_type": "markdown",
   "metadata": {
    "id": "yuraaJ3wvvPK"
   },
   "source": [
    "**Observation:** \n",
    "\n",
    "- Most of the variables have right-skewed distributions.\n",
    "- The distribution for total credit cards and total bank visits are relatively less skewed with no outliers.\n",
    "- The average credit limit and total online visits have outliers to the right end.\n",
    "- Most customers have an average credit limit lower than 48000 and between 3 to 6 total credit cards.\n",
    "- The majority of customers made 1 to 4 total bank visits and total online visits and 1 to 5.25 total calls made."
   ]
  },
  {
   "cell_type": "markdown",
   "metadata": {
    "id": "KGeGbF8ovvPK"
   },
   "source": [
    "### **Checking correlation**"
   ]
  },
  {
   "cell_type": "code",
   "execution_count": 13,
   "metadata": {
    "id": "-INtorZDvvPK",
    "outputId": "d00ff8b6-82f7-4366-8da6-f61d0e6aabe4"
   },
   "outputs": [
    {
     "data": {
      "image/png": "[encoded data removed]",
      "text/plain": [
       "<Figure size 576x576 with 2 Axes>"
      ]
     },
     "metadata": {
      "needs_background": "light"
     },
     "output_type": "display_data"
    }
   ],
   "source": [
    "plt.figure(figsize = (8, 8))\n",
    "\n",
    "sns.heatmap(data.corr(), annot = True, fmt = '0.2f')\n",
    "\n",
    "plt.show()"
   ]
  },
  {
   "cell_type": "markdown",
   "metadata": {
    "id": "m_rQynXTvvPL"
   },
   "source": [
    "**Observations:**\n",
    "\n",
    "- Avg_Credit_Limit is positively correlated with Total_Credit_Cards and Total_visits_online which makes sense.\n",
    "- Avg_Credit_Limit is negatively correlated with Total_calls_made and Total_visits_bank.\n",
    "- Total_visits_bank, Total_visits_online, Total_calls_made are negatively correlated which implies that majority of customers use only one of these channels to contact the bank."
   ]
  },
  {
   "cell_type": "markdown",
   "metadata": {
    "id": "XFimA8PUvvPL"
   },
   "source": [
    "### **Scaling the data**"
   ]
  },
  {
   "cell_type": "code",
   "execution_count": 14,
   "metadata": {
    "id": "TjqSX-50vvPL"
   },
   "outputs": [],
   "source": [
    "scaler = StandardScaler()\n",
    "\n",
    "# Standardize the data to have a mean of ~0 and a variance of 1\n",
    "data_scaled = StandardScaler().fit_transform(data)"
   ]
  },
  {
   "cell_type": "markdown",
   "metadata": {},
   "source": [
    "### **Applying PCA on scaled data**"
   ]
  },
  {
   "cell_type": "code",
   "execution_count": 15,
   "metadata": {},
   "outputs": [],
   "source": [
    "from sklearn.decomposition import PCA\n",
    "\n",
    "n = data.shape[1]\n",
    "\n",
    "# Create a PCA instance: pca\n",
    "pca = PCA(n_components=n)\n",
    "\n",
    "principal_components = pca.fit_transform(data_scaled)\n",
    "\n",
    "# Save components to a DataFrame\n",
    "data_pca = pd.DataFrame(principal_components, columns = data.columns)"
   ]
  },
  {
   "cell_type": "code",
   "execution_count": 16,
   "metadata": {
    "id": "3ESvHP6SvvPM"
   },
   "outputs": [],
   "source": [
    "# Creating copy of the data to store labels from each algorithm\n",
    "\n",
    "data_copy = data_pca.copy(deep = True)"
   ]
  },
  {
   "cell_type": "markdown",
   "metadata": {
    "id": "1lVGJ-HRvvPN"
   },
   "source": [
    "## **K-Means**"
   ]
  },
  {
   "cell_type": "markdown",
   "metadata": {
    "id": "JCT1SB7_vvPN"
   },
   "source": [
    "Let us now fit the K-means algorithm on our pca components and find out the optimum number of clusters to use.\n",
    "\n",
    "We will do this in 3 steps:\n",
    "1. Initialize a dictionary to store the Sum of Squared Error (SSE) for each K\n",
    "2. Run for a range of Ks and store SSE for each run\n",
    "3. Plot the SSE vs K and plot the elbow curve"
   ]
  },
  {
   "cell_type": "code",
   "execution_count": 17,
   "metadata": {
    "id": "HkQWkpSovvPN",
    "outputId": "7819694e-9ce6-4ba2-f0bd-8ccd411cb018"
   },
   "outputs": [
    {
     "data": {
      "image/png": "[encoded data removed]",
      "text/plain": [
       "<Figure size 432x288 with 1 Axes>"
      ]
     },
     "metadata": {
      "needs_background": "light"
     },
     "output_type": "display_data"
    }
   ],
   "source": [
    "# step 1\n",
    "sse = {} \n",
    "\n",
    "# step 2 - iterate for a range of Ks and fit the pca components to the algorithm. \n",
    "for k in range(1, 10):\n",
    "    kmeans = KMeans(n_clusters = k, max_iter = 1000, random_state = 1).fit(data_pca)\n",
    "    sse[k] = kmeans.inertia_     # Use inertia attribute from the clustering object and store the inertia value for that K\n",
    "\n",
    "# step 3\n",
    "plt.figure()\n",
    "\n",
    "plt.plot(list(sse.keys()), list(sse.values()), 'bx-')\n",
    "\n",
    "plt.xlabel(\"Number of cluster\")\n",
    "\n",
    "plt.ylabel(\"SSE\")\n",
    "\n",
    "plt.show()"
   ]
  },
  {
   "cell_type": "markdown",
   "metadata": {},
   "source": [
    "**Interpretation:**\n",
    "The graph takes a sharp turn at K=3 as the slope decreases significantly from 2 to 3.  Therefore, 3 is the ideal number of clusters."
   ]
  },
  {
   "cell_type": "markdown",
   "metadata": {
    "id": "mYdAYWNNvvPO"
   },
   "source": [
    "### **Question 4:** \n",
    "\n",
    "- **Interpret the above elbow plot and state the reason for choosing K=3 (1 Mark)**\n",
    "- **Fit the K-means algorithms on the pca components with the number of clusters equal to 3 (2 Mark)**\n",
    "- **Store the predictions as 'Labels' to the 'data_copy' and 'data' DataFrames (2 Marks)**"
   ]
  },
  {
   "cell_type": "code",
   "execution_count": 18,
   "metadata": {
    "id": "bkeg6XsBvvPO"
   },
   "outputs": [],
   "source": [
    "kmeans = KMeans(n_clusters = 3, random_state = 1)                      # Apply the K-Means algorithm\n",
    "kmeans.fit(data_scaled)                            # Fit the kmeans function on the pca components\n",
    "\n",
    "# Adding predicted labels to the original data and the copied data \n",
    "data_copy['Labels'] = kmeans.predict(data_scaled)     # Save the predictions on the pca components from K-Means\n",
    "data['Labels'] = kmeans.predict(data_scaled)             # Save the predictions on the pca components from K-Means"
   ]
  },
  {
   "cell_type": "markdown",
   "metadata": {
    "id": "9SPMPRF1vvPP"
   },
   "source": [
    "We have generated the labels with K-means. Now, let us look at the various features based on the labels."
   ]
  },
  {
   "cell_type": "markdown",
   "metadata": {
    "id": "tuLEkmr1vvPQ"
   },
   "source": [
    "### **Question 5: Create the cluster profiles using the below summary statistics and box plots for each label (6 Marks)**"
   ]
  },
  {
   "cell_type": "code",
   "execution_count": 19,
   "metadata": {
    "id": "a5IB-oXEyeqC",
    "outputId": "f59797de-7726-47c1-b4e0-4e387a79d0da"
   },
   "outputs": [
    {
     "data": {
      "text/plain": [
       "1    374\n",
       "0    221\n",
       "2     49\n",
       "Name: Labels, dtype: int64"
      ]
     },
     "execution_count": 19,
     "metadata": {},
     "output_type": "execute_result"
    }
   ],
   "source": [
    "# Number of observations in each cluster\n",
    "data.Labels.value_counts()"
   ]
  },
  {
   "cell_type": "code",
   "execution_count": 20,
   "metadata": {
    "id": "VVLMMBjwyeqD",
    "outputId": "d98712e6-175c-4b9c-b12f-b6ef3b898494"
   },
   "outputs": [
    {
     "data": {
      "text/html": [
       "<div>\n",
       "<style scoped>\n",
       "    .dataframe tbody tr th:only-of-type {\n",
       "        vertical-align: middle;\n",
       "    }\n",
       "\n",
       "    .dataframe tbody tr th {\n",
       "        vertical-align: top;\n",
       "    }\n",
       "\n",
       "    .dataframe thead th {\n",
       "        text-align: right;\n",
       "    }\n",
       "</style>\n",
       "<table border=\"1\" class=\"dataframe\">\n",
       "  <thead>\n",
       "    <tr style=\"text-align: right;\">\n",
       "      <th></th>\n",
       "      <th>group_0 Mean</th>\n",
       "      <th>group_1 Mean</th>\n",
       "      <th>group_2 Mean</th>\n",
       "      <th>group_0 Median</th>\n",
       "      <th>group_1 Median</th>\n",
       "      <th>group_2 Median</th>\n",
       "    </tr>\n",
       "  </thead>\n",
       "  <tbody>\n",
       "    <tr>\n",
       "      <th>Avg_Credit_Limit</th>\n",
       "      <td>12239.819005</td>\n",
       "      <td>33893.048128</td>\n",
       "      <td>140102.040816</td>\n",
       "      <td>12000.0</td>\n",
       "      <td>31500.0</td>\n",
       "      <td>145000.0</td>\n",
       "    </tr>\n",
       "    <tr>\n",
       "      <th>Total_Credit_Cards</th>\n",
       "      <td>2.411765</td>\n",
       "      <td>5.508021</td>\n",
       "      <td>8.775510</td>\n",
       "      <td>2.0</td>\n",
       "      <td>6.0</td>\n",
       "      <td>9.0</td>\n",
       "    </tr>\n",
       "    <tr>\n",
       "      <th>Total_visits_bank</th>\n",
       "      <td>0.945701</td>\n",
       "      <td>3.489305</td>\n",
       "      <td>0.591837</td>\n",
       "      <td>1.0</td>\n",
       "      <td>3.0</td>\n",
       "      <td>1.0</td>\n",
       "    </tr>\n",
       "    <tr>\n",
       "      <th>Total_visits_online</th>\n",
       "      <td>3.561086</td>\n",
       "      <td>0.975936</td>\n",
       "      <td>10.979592</td>\n",
       "      <td>4.0</td>\n",
       "      <td>1.0</td>\n",
       "      <td>11.0</td>\n",
       "    </tr>\n",
       "    <tr>\n",
       "      <th>Total_calls_made</th>\n",
       "      <td>6.891403</td>\n",
       "      <td>1.997326</td>\n",
       "      <td>1.102041</td>\n",
       "      <td>7.0</td>\n",
       "      <td>2.0</td>\n",
       "      <td>1.0</td>\n",
       "    </tr>\n",
       "  </tbody>\n",
       "</table>\n",
       "</div>"
      ],
      "text/plain": [
       "                     group_0 Mean  group_1 Mean   group_2 Mean  \\\n",
       "Avg_Credit_Limit     12239.819005  33893.048128  140102.040816   \n",
       "Total_Credit_Cards       2.411765      5.508021       8.775510   \n",
       "Total_visits_bank        0.945701      3.489305       0.591837   \n",
       "Total_visits_online      3.561086      0.975936      10.979592   \n",
       "Total_calls_made         6.891403      1.997326       1.102041   \n",
       "\n",
       "                     group_0 Median  group_1 Median  group_2 Median  \n",
       "Avg_Credit_Limit            12000.0         31500.0        145000.0  \n",
       "Total_Credit_Cards              2.0             6.0             9.0  \n",
       "Total_visits_bank               1.0             3.0             1.0  \n",
       "Total_visits_online             4.0             1.0            11.0  \n",
       "Total_calls_made                7.0             2.0             1.0  "
      ]
     },
     "execution_count": 20,
     "metadata": {},
     "output_type": "execute_result"
    }
   ],
   "source": [
    "# Calculating summary statistics of the original data for each label\n",
    "mean = data.groupby('Labels').mean()\n",
    "\n",
    "median = data.groupby('Labels').median()\n",
    "\n",
    "df_kmeans = pd.concat([mean, median], axis = 0)\n",
    "\n",
    "df_kmeans.index = ['group_0 Mean', 'group_1 Mean', 'group_2 Mean', 'group_0 Median', 'group_1 Median', 'group_2 Median']\n",
    "\n",
    "df_kmeans.T"
   ]
  },
  {
   "cell_type": "code",
   "execution_count": 21,
   "metadata": {
    "id": "bTnGIXvWvvPQ",
    "outputId": "fb854446-d8c0-4254-8b7c-d82ca540226b"
   },
   "outputs": [
    {
     "data": {
      "image/png": "[encoded data removed]",
      "text/plain": [
       "<Figure size 1440x504 with 5 Axes>"
      ]
     },
     "metadata": {
      "needs_background": "light"
     },
     "output_type": "display_data"
    }
   ],
   "source": [
    "# Visualizing different features w.r.t K-means labels\n",
    "data_copy.boxplot(by = 'Labels', layout = (1, 5), figsize = (20, 7))\n",
    "\n",
    "plt.show()"
   ]
  },
  {
   "cell_type": "markdown",
   "metadata": {
    "id": "nadx5OyGvvPR"
   },
   "source": [
    "**Cluster Profiles:**\n",
    "\n",
    "- Cluster 2 is comprised of a high average credit limit customer group. As observed from the boxplots, this group consists of the highest total number of credit cards.  This cluster may include customers who have a high income and spend a lot of money.  This explains why there aren't very many customers in this cluster (49 observations) compared to the other two clusters.\n",
    "- Cluster 1 is the largest cluster and seems to have a mid-level of average credit card limit. These customers seem to have the lowest total credit cards.  This cluster may consist of customers in the middle class but may save money and not use their credit cards as much.  There are the most observations in this group (374 observations), which makes sense because the middle class is typically larger.\n",
    "- Cluster 0 has the lowest average credit limit. These customers have a mid-level of total credit cards as the average is 2.411765.  This cluster may be comprised of lower income customers but still use credit cards to survive.  This cluster has slightly less observations than cluster 1 (221 observations), which supports the idea that each cluster represents a class.\n",
    "- Regardless of the clusters the customers are in, total calls made, total bank visits, and total online visits are fairly similar.  However, it seems like cluster 2 or the higher-income class makes more total calls."
   ]
  },
  {
   "cell_type": "markdown",
   "metadata": {
    "id": "B02j8pGUvvPS"
   },
   "source": [
    "## **Gaussian Mixture Model**"
   ]
  },
  {
   "cell_type": "markdown",
   "metadata": {
    "id": "qYBGfwaVvvPS"
   },
   "source": [
    "Let's now create clusters using the Gaussian Mixture Model."
   ]
  },
  {
   "cell_type": "markdown",
   "metadata": {
    "id": "r0N7Ss06vvPS"
   },
   "source": [
    "### **Question 6:** \n",
    "\n",
    "- **Apply the Gaussian Mixture Model algorithm on the pca components with n_components=3 and random_state=1 (2 Marks)** \n",
    "- **Create the cluster profiles using the below summary statistics and box plots for each label (2 Marks)**\n",
    "- **Compare the clusters from both algorithms - K-means and Gaussian Mixture Model (1 Mark)**"
   ]
  },
  {
   "cell_type": "code",
   "execution_count": 22,
   "metadata": {
    "id": "fBHzul_PvvPS"
   },
   "outputs": [],
   "source": [
    "gmm = GaussianMixture(n_components = 3, random_state = 1)     # Apply the Gaussian Mixture algorithm on the pca components with n_components=3 and random_state=1\n",
    "\n",
    "gmm.fit(data_pca)    # Fit the model on the pca components\n",
    "\n",
    "data_copy['GmmLabels'] = gmm.predict(data_pca)\n",
    "\n",
    "data['GmmLabels'] = gmm.predict(data_pca)"
   ]
  },
  {
   "cell_type": "code",
   "execution_count": 23,
   "metadata": {
    "id": "2DfBc4IsyeqE",
    "outputId": "d638a39a-3d42-44b4-be81-5342ff746d8e"
   },
   "outputs": [
    {
     "data": {
      "text/plain": [
       "1    374\n",
       "0    221\n",
       "2     49\n",
       "Name: GmmLabels, dtype: int64"
      ]
     },
     "execution_count": 23,
     "metadata": {},
     "output_type": "execute_result"
    }
   ],
   "source": [
    "# Number of observations in each cluster\n",
    "data.GmmLabels.value_counts()"
   ]
  },
  {
   "cell_type": "code",
   "execution_count": 24,
   "metadata": {
    "id": "m21wTqIgvvPT",
    "outputId": "ae29c6fb-918e-42cb-a6d8-4555f3e69df4"
   },
   "outputs": [
    {
     "data": {
      "text/html": [
       "<div>\n",
       "<style scoped>\n",
       "    .dataframe tbody tr th:only-of-type {\n",
       "        vertical-align: middle;\n",
       "    }\n",
       "\n",
       "    .dataframe tbody tr th {\n",
       "        vertical-align: top;\n",
       "    }\n",
       "\n",
       "    .dataframe thead th {\n",
       "        text-align: right;\n",
       "    }\n",
       "</style>\n",
       "<table border=\"1\" class=\"dataframe\">\n",
       "  <thead>\n",
       "    <tr style=\"text-align: right;\">\n",
       "      <th></th>\n",
       "      <th>group_0 Mean</th>\n",
       "      <th>group_1 Mean</th>\n",
       "      <th>group_2 Mean</th>\n",
       "      <th>group_0 Median</th>\n",
       "      <th>group_1 Median</th>\n",
       "      <th>group_2 Median</th>\n",
       "    </tr>\n",
       "  </thead>\n",
       "  <tbody>\n",
       "    <tr>\n",
       "      <th>Avg_Credit_Limit</th>\n",
       "      <td>12239.819005</td>\n",
       "      <td>33893.048128</td>\n",
       "      <td>140102.040816</td>\n",
       "      <td>12000.0</td>\n",
       "      <td>31500.0</td>\n",
       "      <td>145000.0</td>\n",
       "    </tr>\n",
       "    <tr>\n",
       "      <th>Total_Credit_Cards</th>\n",
       "      <td>2.411765</td>\n",
       "      <td>5.508021</td>\n",
       "      <td>8.775510</td>\n",
       "      <td>2.0</td>\n",
       "      <td>6.0</td>\n",
       "      <td>9.0</td>\n",
       "    </tr>\n",
       "    <tr>\n",
       "      <th>Total_visits_bank</th>\n",
       "      <td>0.945701</td>\n",
       "      <td>3.489305</td>\n",
       "      <td>0.591837</td>\n",
       "      <td>1.0</td>\n",
       "      <td>3.0</td>\n",
       "      <td>1.0</td>\n",
       "    </tr>\n",
       "    <tr>\n",
       "      <th>Total_visits_online</th>\n",
       "      <td>3.561086</td>\n",
       "      <td>0.975936</td>\n",
       "      <td>10.979592</td>\n",
       "      <td>4.0</td>\n",
       "      <td>1.0</td>\n",
       "      <td>11.0</td>\n",
       "    </tr>\n",
       "    <tr>\n",
       "      <th>Total_calls_made</th>\n",
       "      <td>6.891403</td>\n",
       "      <td>1.997326</td>\n",
       "      <td>1.102041</td>\n",
       "      <td>7.0</td>\n",
       "      <td>2.0</td>\n",
       "      <td>1.0</td>\n",
       "    </tr>\n",
       "  </tbody>\n",
       "</table>\n",
       "</div>"
      ],
      "text/plain": [
       "                     group_0 Mean  group_1 Mean   group_2 Mean  \\\n",
       "Avg_Credit_Limit     12239.819005  33893.048128  140102.040816   \n",
       "Total_Credit_Cards       2.411765      5.508021       8.775510   \n",
       "Total_visits_bank        0.945701      3.489305       0.591837   \n",
       "Total_visits_online      3.561086      0.975936      10.979592   \n",
       "Total_calls_made         6.891403      1.997326       1.102041   \n",
       "\n",
       "                     group_0 Median  group_1 Median  group_2 Median  \n",
       "Avg_Credit_Limit            12000.0         31500.0        145000.0  \n",
       "Total_Credit_Cards              2.0             6.0             9.0  \n",
       "Total_visits_bank               1.0             3.0             1.0  \n",
       "Total_visits_online             4.0             1.0            11.0  \n",
       "Total_calls_made                7.0             2.0             1.0  "
      ]
     },
     "execution_count": 24,
     "metadata": {},
     "output_type": "execute_result"
    }
   ],
   "source": [
    "# Calculating the summary statistics of the original data for each label\n",
    "original_features = [\"Avg_Credit_Limit\", \"Total_Credit_Cards\", \"Total_visits_bank\", \"Total_visits_online\", \"Total_calls_made\"]\n",
    "\n",
    "mean = data.groupby('GmmLabels').mean()\n",
    "\n",
    "median = data.groupby('GmmLabels').median()\n",
    "\n",
    "df_gmm = pd.concat([mean, median], axis = 0)\n",
    "\n",
    "df_gmm.index = ['group_0 Mean', 'group_1 Mean', 'group_2 Mean', 'group_0 Median', 'group_1 Median', 'group_2 Median']\n",
    "\n",
    "df_gmm[original_features].T"
   ]
  },
  {
   "cell_type": "code",
   "execution_count": 25,
   "metadata": {
    "id": "CuJf3MeOvvPT",
    "outputId": "7dee619e-e69b-4586-82ab-f6635fda21a0"
   },
   "outputs": [
    {
     "data": {
      "image/png": "[encoded data removed]",
      "text/plain": [
       "<Figure size 1440x504 with 5 Axes>"
      ]
     },
     "metadata": {
      "needs_background": "light"
     },
     "output_type": "display_data"
    }
   ],
   "source": [
    "# Plotting boxplots with the new GMM based labels\n",
    "\n",
    "features_with_lables = [\"Avg_Credit_Limit\", \"Total_Credit_Cards\", \"Total_visits_bank\", \"Total_visits_online\", \"Total_calls_made\", \"GmmLabels\"]\n",
    "\n",
    "data_copy[features_with_lables].boxplot(by = 'GmmLabels', layout = (1, 5),figsize = (20, 7))\n",
    "\n",
    "plt.show()"
   ]
  },
  {
   "cell_type": "markdown",
   "metadata": {
    "id": "EHA5nl2yvvPU"
   },
   "source": [
    "**Cluster Profiles:**\n",
    "\n",
    "- Cluster 2 is comprised of a high average credit limit customer group. As observed from the boxplots, this group consists of the highest total number of credit cards.  This cluster may include customers who have a high income and spend a lot of money.  This explains why there aren't very many customers in this cluster (49 observations) compared to the other two clusters.\n",
    "- Cluster 1 is the largest cluster and seems to have a mid-level of average credit card limit. These customers seem to have the lowest total credit cards.  This cluster may consist of customers in the middle class but may save money and not use their credit cards as much.  There are the most observations in this group (374 observations), which makes sense because the middle class is typically larger.\n",
    "- Cluster 0 has the lowest average credit limit. These customers have a mid-level of total credit cards as the average is 2.411765.  This cluster may be comprised of lower income customers but still use credit cards to survive.  This cluster has slightly less observations than cluster 1 (221 observations), which supports the idea that each cluster represents a class.\n",
    "- Regardless of the clusters the customers are in, total calls made, total bank visits, and total online visits are fairly similar.  However, it seems like cluster 2 or the higher-income class makes more total calls.\n",
    "\n",
    "\n",
    "**Comparing Clusters:**\n",
    "\n",
    "Both algorithms yield the same results."
   ]
  },
  {
   "cell_type": "markdown",
   "metadata": {
    "id": "ixzPPJG6vvPV"
   },
   "source": [
    "## **K-Medoids**"
   ]
  },
  {
   "cell_type": "markdown",
   "metadata": {},
   "source": [
    "### **Question 7:** \n",
    "\n",
    "- **Apply the K-Medoids clustering algorithm on the pca components with n_clusters=3 and random_state=1 (2 Marks)** \n",
    "- **Create cluster profiles using the below summary statistics and box plots for each label (2 Marks)**\n",
    "- **Compare the clusters from both algorithms - K-Means and K-Medoids (2 Marks)**"
   ]
  },
  {
   "cell_type": "code",
   "execution_count": 26,
   "metadata": {
    "id": "OI2TbqNhvvPV"
   },
   "outputs": [],
   "source": [
    "kmedo = KMedoids(n_clusters = 3, random_state = 1)      # Apply the K-Medoids algorithm on the pca components with n_components=3 and random_state=1\n",
    "\n",
    "kmedo.fit(data_pca)      # Fit the model on the pca components\n",
    "\n",
    "data_copy['kmedoLabels'] = kmedo.predict(data_pca)\n",
    "\n",
    "data['kmedoLabels'] = kmedo.predict(data_pca)"
   ]
  },
  {
   "cell_type": "code",
   "execution_count": 27,
   "metadata": {
    "id": "as8coXbwyeqG",
    "outputId": "7e0e4069-6d27-4133-e043-27e9fdca6b25"
   },
   "outputs": [
    {
     "data": {
      "text/plain": [
       "2    289\n",
       "0    222\n",
       "1    133\n",
       "Name: kmedoLabels, dtype: int64"
      ]
     },
     "execution_count": 27,
     "metadata": {},
     "output_type": "execute_result"
    }
   ],
   "source": [
    "# Number of observations in each cluster\n",
    "data.kmedoLabels.value_counts()"
   ]
  },
  {
   "cell_type": "code",
   "execution_count": 28,
   "metadata": {
    "id": "FvKJ9rrzvvPW",
    "outputId": "c8f9fc4d-86c7-4d33-d2de-aaaba2f84d0f"
   },
   "outputs": [
    {
     "data": {
      "text/html": [
       "<div>\n",
       "<style scoped>\n",
       "    .dataframe tbody tr th:only-of-type {\n",
       "        vertical-align: middle;\n",
       "    }\n",
       "\n",
       "    .dataframe tbody tr th {\n",
       "        vertical-align: top;\n",
       "    }\n",
       "\n",
       "    .dataframe thead th {\n",
       "        text-align: right;\n",
       "    }\n",
       "</style>\n",
       "<table border=\"1\" class=\"dataframe\">\n",
       "  <thead>\n",
       "    <tr style=\"text-align: right;\">\n",
       "      <th></th>\n",
       "      <th>group_0 Mean</th>\n",
       "      <th>group_1 Mean</th>\n",
       "      <th>group_2 Mean</th>\n",
       "      <th>group_0 Median</th>\n",
       "      <th>group_1 Median</th>\n",
       "      <th>group_2 Median</th>\n",
       "    </tr>\n",
       "  </thead>\n",
       "  <tbody>\n",
       "    <tr>\n",
       "      <th>Avg_Credit_Limit</th>\n",
       "      <td>12216.216216</td>\n",
       "      <td>85052.631579</td>\n",
       "      <td>28449.826990</td>\n",
       "      <td>12000.0</td>\n",
       "      <td>68000.0</td>\n",
       "      <td>20000.0</td>\n",
       "    </tr>\n",
       "    <tr>\n",
       "      <th>Total_Credit_Cards</th>\n",
       "      <td>2.423423</td>\n",
       "      <td>7.030075</td>\n",
       "      <td>5.363322</td>\n",
       "      <td>2.0</td>\n",
       "      <td>7.0</td>\n",
       "      <td>5.0</td>\n",
       "    </tr>\n",
       "    <tr>\n",
       "      <th>Total_visits_bank</th>\n",
       "      <td>0.950450</td>\n",
       "      <td>1.691729</td>\n",
       "      <td>3.830450</td>\n",
       "      <td>1.0</td>\n",
       "      <td>2.0</td>\n",
       "      <td>4.0</td>\n",
       "    </tr>\n",
       "    <tr>\n",
       "      <th>Total_visits_online</th>\n",
       "      <td>3.554054</td>\n",
       "      <td>4.639098</td>\n",
       "      <td>0.982699</td>\n",
       "      <td>4.0</td>\n",
       "      <td>2.0</td>\n",
       "      <td>1.0</td>\n",
       "    </tr>\n",
       "    <tr>\n",
       "      <th>Total_calls_made</th>\n",
       "      <td>6.878378</td>\n",
       "      <td>1.969925</td>\n",
       "      <td>1.851211</td>\n",
       "      <td>7.0</td>\n",
       "      <td>2.0</td>\n",
       "      <td>2.0</td>\n",
       "    </tr>\n",
       "  </tbody>\n",
       "</table>\n",
       "</div>"
      ],
      "text/plain": [
       "                     group_0 Mean  group_1 Mean  group_2 Mean  group_0 Median  \\\n",
       "Avg_Credit_Limit     12216.216216  85052.631579  28449.826990         12000.0   \n",
       "Total_Credit_Cards       2.423423      7.030075      5.363322             2.0   \n",
       "Total_visits_bank        0.950450      1.691729      3.830450             1.0   \n",
       "Total_visits_online      3.554054      4.639098      0.982699             4.0   \n",
       "Total_calls_made         6.878378      1.969925      1.851211             7.0   \n",
       "\n",
       "                     group_1 Median  group_2 Median  \n",
       "Avg_Credit_Limit            68000.0         20000.0  \n",
       "Total_Credit_Cards              7.0             5.0  \n",
       "Total_visits_bank               2.0             4.0  \n",
       "Total_visits_online             2.0             1.0  \n",
       "Total_calls_made                2.0             2.0  "
      ]
     },
     "execution_count": 28,
     "metadata": {},
     "output_type": "execute_result"
    }
   ],
   "source": [
    "# Calculating summary statistics of the original data for each label\n",
    "mean = data.groupby('kmedoLabels').mean()\n",
    "\n",
    "median = data.groupby('kmedoLabels').median()\n",
    "\n",
    "df_kmedoids = pd.concat([mean, median], axis = 0)\n",
    "\n",
    "df_kmedoids.index = ['group_0 Mean', 'group_1 Mean', 'group_2 Mean', 'group_0 Median', 'group_1 Median', 'group_2 Median']\n",
    "\n",
    "df_kmedoids[original_features].T"
   ]
  },
  {
   "cell_type": "code",
   "execution_count": 29,
   "metadata": {
    "id": "eWdxV2rLvvPX",
    "outputId": "c93561c9-22a3-4181-a2c3-b2b473099d25"
   },
   "outputs": [
    {
     "data": {
      "image/png": "[encoded data removed]",
      "text/plain": [
       "<Figure size 1440x504 with 5 Axes>"
      ]
     },
     "metadata": {
      "needs_background": "light"
     },
     "output_type": "display_data"
    }
   ],
   "source": [
    "# Plotting boxplots with the new K-Medoids based labels\n",
    "\n",
    "features_with_lables = [\"Avg_Credit_Limit\", \"Total_Credit_Cards\", \"Total_visits_bank\", \"Total_visits_online\", \"Total_calls_made\", \"kmedoLabels\"]\n",
    "\n",
    "data_copy[features_with_lables].boxplot(by = 'kmedoLabels', layout = (1, 5), figsize = (20, 7))\n",
    "\n",
    "plt.show()"
   ]
  },
  {
   "cell_type": "markdown",
   "metadata": {},
   "source": [
    "**Cluster Profiles:**\n",
    "\n",
    "The cluster profiles using the K-Medoids clustering algorithm yields similar results to the K-Means clustering algorithm and Gaussian Mixture Model clusering algorithm.  However, cluster 1 and cluster 2 seem to have switched.  Cluster 0 would represent lower-income customers who have a lower credit limit but may use credit cards to survive, as represented by the mid-level of total credit cards.  Cluster 1 is comprised of customers with a high average credit limit and high total number of credit cards.  This cluster reflects cusomers who have high income and spend lots of money.  This cluster is also the smallest group (133 observations), which is representative of the high-income class.  Lastly, cluster 2, the largest cluster (289 observations), consists of customers with a mid-level of average credit limit and the lowest total number of credit cards.  This is representative of a middle class.  Regardless of the clusters the customers are in, total calls made, total bank visits, and total online visits are fairly similar.  Although, it appears that cluster 1 or the higher-income class primarily makes less total calls, there are several outliers in this group."
   ]
  },
  {
   "cell_type": "markdown",
   "metadata": {
    "id": "ZoGTRNLKyeqH"
   },
   "source": [
    "Let's compare the clusters from K-Means and K-Medoids "
   ]
  },
  {
   "cell_type": "code",
   "execution_count": 30,
   "metadata": {
    "id": "YDTninxvyeqH",
    "outputId": "80c4b6ea-047c-4f57-9311-6f6a1bf023b0"
   },
   "outputs": [
    {
     "data": {
      "text/html": [
       "<div>\n",
       "<style scoped>\n",
       "    .dataframe tbody tr th:only-of-type {\n",
       "        vertical-align: middle;\n",
       "    }\n",
       "\n",
       "    .dataframe tbody tr th {\n",
       "        vertical-align: top;\n",
       "    }\n",
       "\n",
       "    .dataframe thead th {\n",
       "        text-align: right;\n",
       "    }\n",
       "</style>\n",
       "<table border=\"1\" class=\"dataframe\">\n",
       "  <thead>\n",
       "    <tr style=\"text-align: right;\">\n",
       "      <th></th>\n",
       "      <th>Avg_Credit_Limit</th>\n",
       "      <th>Avg_Credit_Limit</th>\n",
       "      <th>Total_Credit_Cards</th>\n",
       "      <th>Total_Credit_Cards</th>\n",
       "      <th>Total_visits_bank</th>\n",
       "      <th>Total_visits_bank</th>\n",
       "      <th>Total_visits_online</th>\n",
       "      <th>Total_visits_online</th>\n",
       "      <th>Total_calls_made</th>\n",
       "      <th>Total_calls_made</th>\n",
       "    </tr>\n",
       "  </thead>\n",
       "  <tbody>\n",
       "    <tr>\n",
       "      <th>group_0 Mean</th>\n",
       "      <td>12216.216216</td>\n",
       "      <td>12239.819005</td>\n",
       "      <td>2.423423</td>\n",
       "      <td>2.411765</td>\n",
       "      <td>0.950450</td>\n",
       "      <td>0.945701</td>\n",
       "      <td>3.554054</td>\n",
       "      <td>3.561086</td>\n",
       "      <td>6.878378</td>\n",
       "      <td>6.891403</td>\n",
       "    </tr>\n",
       "    <tr>\n",
       "      <th>group_1 Mean</th>\n",
       "      <td>85052.631579</td>\n",
       "      <td>33893.048128</td>\n",
       "      <td>7.030075</td>\n",
       "      <td>5.508021</td>\n",
       "      <td>1.691729</td>\n",
       "      <td>3.489305</td>\n",
       "      <td>4.639098</td>\n",
       "      <td>0.975936</td>\n",
       "      <td>1.969925</td>\n",
       "      <td>1.997326</td>\n",
       "    </tr>\n",
       "    <tr>\n",
       "      <th>group_2 Mean</th>\n",
       "      <td>28449.826990</td>\n",
       "      <td>140102.040816</td>\n",
       "      <td>5.363322</td>\n",
       "      <td>8.775510</td>\n",
       "      <td>3.830450</td>\n",
       "      <td>0.591837</td>\n",
       "      <td>0.982699</td>\n",
       "      <td>10.979592</td>\n",
       "      <td>1.851211</td>\n",
       "      <td>1.102041</td>\n",
       "    </tr>\n",
       "    <tr>\n",
       "      <th>group_0 Median</th>\n",
       "      <td>12000.000000</td>\n",
       "      <td>12000.000000</td>\n",
       "      <td>2.000000</td>\n",
       "      <td>2.000000</td>\n",
       "      <td>1.000000</td>\n",
       "      <td>1.000000</td>\n",
       "      <td>4.000000</td>\n",
       "      <td>4.000000</td>\n",
       "      <td>7.000000</td>\n",
       "      <td>7.000000</td>\n",
       "    </tr>\n",
       "    <tr>\n",
       "      <th>group_1 Median</th>\n",
       "      <td>68000.000000</td>\n",
       "      <td>31500.000000</td>\n",
       "      <td>7.000000</td>\n",
       "      <td>6.000000</td>\n",
       "      <td>2.000000</td>\n",
       "      <td>3.000000</td>\n",
       "      <td>2.000000</td>\n",
       "      <td>1.000000</td>\n",
       "      <td>2.000000</td>\n",
       "      <td>2.000000</td>\n",
       "    </tr>\n",
       "    <tr>\n",
       "      <th>group_2 Median</th>\n",
       "      <td>20000.000000</td>\n",
       "      <td>145000.000000</td>\n",
       "      <td>5.000000</td>\n",
       "      <td>9.000000</td>\n",
       "      <td>4.000000</td>\n",
       "      <td>1.000000</td>\n",
       "      <td>1.000000</td>\n",
       "      <td>11.000000</td>\n",
       "      <td>2.000000</td>\n",
       "      <td>1.000000</td>\n",
       "    </tr>\n",
       "  </tbody>\n",
       "</table>\n",
       "</div>"
      ],
      "text/plain": [
       "                Avg_Credit_Limit  Avg_Credit_Limit  Total_Credit_Cards  \\\n",
       "group_0 Mean        12216.216216      12239.819005            2.423423   \n",
       "group_1 Mean        85052.631579      33893.048128            7.030075   \n",
       "group_2 Mean        28449.826990     140102.040816            5.363322   \n",
       "group_0 Median      12000.000000      12000.000000            2.000000   \n",
       "group_1 Median      68000.000000      31500.000000            7.000000   \n",
       "group_2 Median      20000.000000     145000.000000            5.000000   \n",
       "\n",
       "                Total_Credit_Cards  Total_visits_bank  Total_visits_bank  \\\n",
       "group_0 Mean              2.411765           0.950450           0.945701   \n",
       "group_1 Mean              5.508021           1.691729           3.489305   \n",
       "group_2 Mean              8.775510           3.830450           0.591837   \n",
       "group_0 Median            2.000000           1.000000           1.000000   \n",
       "group_1 Median            6.000000           2.000000           3.000000   \n",
       "group_2 Median            9.000000           4.000000           1.000000   \n",
       "\n",
       "                Total_visits_online  Total_visits_online  Total_calls_made  \\\n",
       "group_0 Mean               3.554054             3.561086          6.878378   \n",
       "group_1 Mean               4.639098             0.975936          1.969925   \n",
       "group_2 Mean               0.982699            10.979592          1.851211   \n",
       "group_0 Median             4.000000             4.000000          7.000000   \n",
       "group_1 Median             2.000000             1.000000          2.000000   \n",
       "group_2 Median             1.000000            11.000000          2.000000   \n",
       "\n",
       "                Total_calls_made  \n",
       "group_0 Mean            6.891403  \n",
       "group_1 Mean            1.997326  \n",
       "group_2 Mean            1.102041  \n",
       "group_0 Median          7.000000  \n",
       "group_1 Median          2.000000  \n",
       "group_2 Median          1.000000  "
      ]
     },
     "execution_count": 30,
     "metadata": {},
     "output_type": "execute_result"
    }
   ],
   "source": [
    "comparison = pd.concat([df_kmedoids, df_kmeans], axis = 1)[original_features]\n",
    "\n",
    "comparison"
   ]
  },
  {
   "cell_type": "markdown",
   "metadata": {
    "id": "iuNbMOGKvvPY"
   },
   "source": [
    "**Comparing Clusters:**\n",
    "\n",
    "The stories for both algorithms seem to be similar but cluster 1 and 2 have switched."
   ]
  }
 ],
 "metadata": {
  "colab": {
   "collapsed_sections": [
    "MeIShU1-hh0U"
   ],
   "name": "Solution_Notebook_Unsupervised_Learning_Project.ipynb",
   "provenance": []
  },
  "kernelspec": {
   "display_name": "Python 3",
   "language": "python",
   "name": "python3"
  },
  "language_info": {
   "codemirror_mode": {
    "name": "ipython",
    "version": 3
   },
   "file_extension": ".py",
   "mimetype": "text/x-python",
   "name": "python",
   "nbconvert_exporter": "python",
   "pygments_lexer": "ipython3",
   "version": "3.8.5"
  }
 },
 "nbformat": 4,
 "nbformat_minor": 1
}
